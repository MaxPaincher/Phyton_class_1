{
 "cells": [
  {
   "cell_type": "code",
   "execution_count": 2,
   "metadata": {},
   "outputs": [
    {
     "name": "stdout",
     "output_type": "stream",
     "text": [
      "ola\n"
     ]
    }
   ],
   "source": [
    "print(\"ola\")\n"
   ]
  },
  {
   "cell_type": "markdown",
   "metadata": {},
   "source": [
    "##### Esa es la clase de phyton\n",
    "* variables\n",
    "* operadores matematicos basicos\n",
    "* operadores de comparacion \n",
    "* Condicionales\n",
    "    - simples\n",
    "    - anidados\n",
    "    - encadenados\n",
    "* Estructura de datos\n",
    "    - Listas\n",
    "    - Cadenas de caracteres\n",
    "    - diccionarios\n",
    "    - tuplas\n",
    "* estructuras de control\n",
    "    - funciones \n",
    "    - ciclos finitos \n",
    "    - ciclos infinitos"
   ]
  },
  {
   "cell_type": "code",
   "execution_count": null,
   "metadata": {},
   "outputs": [],
   "source": [
    "# variables en phyton\n",
    "name = \"josefino\""
   ]
  },
  {
   "cell_type": "code",
   "execution_count": null,
   "metadata": {},
   "outputs": [],
   "source": [
    "name"
   ]
  },
  {
   "cell_type": "code",
   "execution_count": 27,
   "metadata": {},
   "outputs": [],
   "source": [
    "# cuando la variable tiene mas de nua palabra \n",
    "last_name = \"primero\""
   ]
  },
  {
   "cell_type": "code",
   "execution_count": 29,
   "metadata": {},
   "outputs": [],
   "source": [
    "## No da error pero es una mala practica no usar piso, tener en cuenta hacer espacio entre los comandos\n",
    "Lastname=\"primero\""
   ]
  },
  {
   "cell_type": "code",
   "execution_count": 33,
   "metadata": {},
   "outputs": [],
   "source": [
    "##last.name = \"primero\"\n",
    "##last*name = \"primero\"\n",
    "##last-name = \"primero\"\n",
    "### Todos estos no se usan ya que es un error"
   ]
  },
  {
   "cell_type": "code",
   "execution_count": 35,
   "metadata": {},
   "outputs": [],
   "source": [
    "Lastname = \"primero\""
   ]
  },
  {
   "cell_type": "code",
   "execution_count": 37,
   "metadata": {},
   "outputs": [
    {
     "data": {
      "text/plain": [
       "'primero'"
      ]
     },
     "execution_count": 37,
     "metadata": {},
     "output_type": "execute_result"
    }
   ],
   "source": [
    "last_name"
   ]
  },
  {
   "cell_type": "code",
   "execution_count": 72,
   "metadata": {},
   "outputs": [
    {
     "name": "stdout",
     "output_type": "stream",
     "text": [
      "tu numero es 2.5\n",
      "Tu numero es 4.5\n",
      "El resultado de la suma es: 7.0\n",
      "El resultado de la resta es: -2.0\n",
      "El resultado de la multiplicacion es: 11.25\n",
      "El resultado de la division es: 0.5555555555555556\n"
     ]
    }
   ],
   "source": [
    "# operadores matematicos\n",
    "num_1 = int(input(\"Ingresa el primer numero \"))\n",
    "num_2 = int(input(\"Ingresa el segundo numero \"))\n",
    "print (f\"tu numero es {num_1}\")\n",
    "print (f\"Tu numero es {num_2}\")\n",
    "\n",
    "#sumas\n",
    "result_1 = num_1 + num_2\n",
    "\n",
    "# resta\n",
    "result_2 = num_1 - num_2\n",
    "\n",
    "#Multiplicacion \n",
    "result_3 = num_1 * num_2\n",
    "\n",
    "#Division\n",
    "result_4 = num_1 / num_2\n",
    "\n",
    "#resultados\n",
    "print(f\"El resultado de la suma es: {result_1}\") \n",
    "print(f\"El resultado de la resta es: {result_2}\")\n",
    "print(f\"El resultado de la multiplicacion es: {result_3}\")\n",
    "print(f\"El resultado de la division es: {result_4}\")\n",
    "#Solo se usa la f para darle formato a lo que se va a presentar dentro de las llaves\n",
    "#\"Print\" es una funcion y \"Result\" es un argumento"
   ]
  },
  {
   "cell_type": "code",
   "execution_count": 55,
   "metadata": {},
   "outputs": [
    {
     "name": "stdout",
     "output_type": "stream",
     "text": [
      "hola la\n"
     ]
    }
   ],
   "source": [
    "#Saludos \n",
    "name = input(\"Cual es tu nombre? \")\n",
    "# \"Input\" Habilita el ingreso de datos por teclado\n",
    "print (f\"Hola {name}\")\n"
   ]
  },
  {
   "cell_type": "code",
   "execution_count": null,
   "metadata": {},
   "outputs": [],
   "source": [
    "num_3 = input (\"num_3: \")\n",
    "num_3 = int(num_3)\n",
    "type (num_3)"
   ]
  },
  {
   "cell_type": "code",
   "execution_count": 73,
   "metadata": {},
   "outputs": [
    {
     "data": {
      "text/plain": [
       "float"
      ]
     },
     "execution_count": 73,
     "metadata": {},
     "output_type": "execute_result"
    }
   ],
   "source": [
    "num_3 = input (\"num_3: \")\n",
    "num_3 = float(num_3)\n",
    "type (num_3)\n",
    "## El float es para incluir los numeros decimales (tambien los numeros enteros)"
   ]
  },
  {
   "cell_type": "code",
   "execution_count": 75,
   "metadata": {},
   "outputs": [
    {
     "data": {
      "text/plain": [
       "False"
      ]
     },
     "execution_count": 75,
     "metadata": {},
     "output_type": "execute_result"
    }
   ],
   "source": [
    "# Operadores de comparacion \n",
    "#mayor que >\n",
    "#menor que <\n",
    "#mayor igual >=\n",
    "#menor igual <=\n",
    "#igual ==\n",
    "#diferente !=\n",
    "\n",
    "10>20"
   ]
  },
  {
   "cell_type": "code",
   "execution_count": 78,
   "metadata": {},
   "outputs": [],
   "source": [
    "# Condicionales \n",
    "name = input (\"ingrese su nombre> \")\n",
    "\n",
    "# If condicion:\n",
    "    #hago algo\n",
    "    \n",
    "if name == \"josefino\":\n",
    "    print(\"otra vez tu\")"
   ]
  },
  {
   "cell_type": "code",
   "execution_count": null,
   "metadata": {},
   "outputs": [],
   "source": [
    "# Condicionales \n",
    "num = int(input (\"ingrese su nombre> \") )\n",
    "\n",
    "# If condicion:\n",
    "    #hago algo\n",
    "    \n",
    "if num >= 10:\n",
    "    print(\"mayor o igual a 10\")\n",
    "else:\n",
    "    print (\"Es menor o igual a 10\")"
   ]
  },
  {
   "cell_type": "code",
   "execution_count": null,
   "metadata": {},
   "outputs": [],
   "source": [
    "# Condicionales \n",
    "num = int(input (\"ingrese su nombre> \") )\n",
    "\n",
    "# If condicion:\n",
    "    #hago algo\n",
    "    \n",
    "if num >= 10:\n",
    "    print(\"mayor o igual a 10\")\n",
    "else:\n",
    "    print (\"Es menor o igual a 10\")"
   ]
  },
  {
   "cell_type": "code",
   "execution_count": 121,
   "metadata": {},
   "outputs": [
    {
     "name": "stdout",
     "output_type": "stream",
     "text": [
      "tu numero es 12\n",
      "Tu numero es 13\n",
      "El resultado de la suma es: 25\n",
      "El resultado de la resta es: -1\n",
      "El resultado de la multiplicacion es: 156\n",
      "El resultado de la division es: 0.9230769230769231\n"
     ]
    }
   ],
   "source": [
    "# operadores matematicos\n",
    "num_1 = int(input(\"Ingresa el primer numero \"))\n",
    "#num_1 = float(num_1)\n",
    "num_2 = int(input(\"Ingresa el segundo numero \"))\n",
    "print (f\"tu numero es {num_1}\")\n",
    "print (f\"Tu numero es {num_2}\")\n",
    "\n",
    "#Pregunte la operacion, osea, si quieres una suma te muestra la suma, si preguntas por una resta, t la muestra, etc\n",
    "#sumas\n",
    "result_1 = num_1 + num_2\n",
    "print(f\"El resultado de la suma es: {result_1}\") \n",
    "# resta\n",
    "result_2 = num_1 - num_2\n",
    "print(f\"El resultado de la resta es: {result_2}\")\n",
    "#Multiplicacion \n",
    "result_3 = num_1 * num_2\n",
    "print(f\"El resultado de la multiplicacion es: {result_3}\")\n",
    "\n",
    "#Division\n",
    "result_4 = num_1 / num_2\n",
    "print(f\"El resultado de la division es: {result_4}\")\n",
    "\n",
    "#resultados\n",
    "\n",
    "\n",
    "#Solo se usa la f para darle formato a lo que se va a presentar dentro de las llaves\n",
    "#\"Print\" es una funcion y \"Result\" es un argumento"
   ]
  }
 ],
 "metadata": {
  "kernelspec": {
   "display_name": "Python 3",
   "language": "python",
   "name": "python3"
  },
  "language_info": {
   "codemirror_mode": {
    "name": "ipython",
    "version": 3
   },
   "file_extension": ".py",
   "mimetype": "text/x-python",
   "name": "python",
   "nbconvert_exporter": "python",
   "pygments_lexer": "ipython3",
   "version": "3.11.9"
  }
 },
 "nbformat": 4,
 "nbformat_minor": 2
}
